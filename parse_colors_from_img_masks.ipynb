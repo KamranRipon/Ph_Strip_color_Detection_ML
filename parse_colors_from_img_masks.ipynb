{
 "cells": [
  {
   "cell_type": "code",
   "execution_count": 1,
   "metadata": {
    "collapsed": true
   },
   "outputs": [],
   "source": [
    "import numpy as np\n",
    "import cv2"
   ]
  },
  {
   "cell_type": "markdown",
   "metadata": {},
   "source": [
    "### Helper Functions"
   ]
  },
  {
   "cell_type": "code",
   "execution_count": 2,
   "metadata": {},
   "outputs": [],
   "source": [
    "def partition_image(img_masked, num_partitions = 4):\n",
    "    \n",
    "    zero_row = np.zeros(img_masked.shape[1:])\n",
    "    partitions = []\n",
    "    cut_start_index = 0\n",
    "    should_cut = False\n",
    "    \n",
    "    for i, row in enumerate(img_masked):\n",
    "        row_is_zero = np.all(np.equal(row, zero_row))\n",
    "        if not should_cut and not row_is_zero:\n",
    "            should_cut = True\n",
    "        elif should_cut and row_is_zero:\n",
    "            partitions.append(img_masked[cut_start_index : i + 1])\n",
    "            cut_start_index = i + 1\n",
    "            should_cut = False\n",
    "            if len(partitions) == num_partitions:\n",
    "                return partitions\n",
    "    print(\"Warning: Didn't reach full number of partitions {}, \\\n",
    "          returning {} partitions instead\".format(num_partitions, len(partitions)))\n",
    "    return partitions"
   ]
  },
  {
   "cell_type": "code",
   "execution_count": 3,
   "metadata": {},
   "outputs": [],
   "source": [
    "def compute_avg_colored_pixel(partition):\n",
    "    \n",
    "    zero_row = np.zeros(partition.shape[2], dtype='int64')\n",
    "    pixels = partition.reshape(-1, partition.shape[-1])\n",
    "    non_black_pixel_indices = np.where(np.any(pixels != zero_row, axis=1))\n",
    "    non_black_pixels = pixels[non_black_pixel_indices]\n",
    "    return np.average(non_black_pixels, axis=0)"
   ]
  },
  {
   "cell_type": "markdown",
   "metadata": {},
   "source": [
    "### Retrieving Images"
   ]
  },
  {
   "cell_type": "code",
   "execution_count": 4,
   "metadata": {},
   "outputs": [
    {
     "name": "stdout",
     "output_type": "stream",
     "text": [
      "(90, 1)\n"
     ]
    }
   ],
   "source": [
    "import glob\n",
    "masked_images = []\n",
    "Y = []\n",
    "for img_path in glob.glob('masked_data/*.jpg'):\n",
    "    masked_images.append(cv2.imread(img_path))\n",
    "    y = img_path[12:-7].replace('p', '.')\n",
    "    Y.append(y)\n",
    "Y = np.array(Y).astype('float')[:, np.newaxis] # makes shape (90, 1)\n",
    "print(Y.shape)"
   ]
  },
  {
   "cell_type": "markdown",
   "metadata": {},
   "source": [
    "### Parsing Colors from Images"
   ]
  },
  {
   "cell_type": "code",
   "execution_count": 5,
   "metadata": {},
   "outputs": [
    {
     "name": "stdout",
     "output_type": "stream",
     "text": [
      "(90, 12)\n"
     ]
    }
   ],
   "source": [
    "X = []\n",
    "for masked_image in masked_images:\n",
    "    partitions = partition_image(masked_image)\n",
    "    avg_pixels = [compute_avg_colored_pixel(partition) for partition in partitions]\n",
    "    X.append(np.concatenate(avg_pixels).ravel()) # converts list of arrays to one array\n",
    "X = np.asmatrix(X)\n",
    "print(X.shape)"
   ]
  },
  {
   "cell_type": "markdown",
   "metadata": {},
   "source": [
    "### Saving Parsed Color Data"
   ]
  },
  {
   "cell_type": "code",
   "execution_count": 6,
   "metadata": {
    "collapsed": true
   },
   "outputs": [],
   "source": [
    "np.save('X.npy', X)\n",
    "np.save('Y.npy', Y)"
   ]
  }
 ],
 "metadata": {
  "kernelspec": {
   "display_name": "Python 3",
   "language": "python",
   "name": "python3"
  },
  "language_info": {
   "codemirror_mode": {
    "name": "ipython",
    "version": 3
   },
   "file_extension": ".py",
   "mimetype": "text/x-python",
   "name": "python",
   "nbconvert_exporter": "python",
   "pygments_lexer": "ipython3",
   "version": "3.6.1"
  }
 },
 "nbformat": 4,
 "nbformat_minor": 2
}

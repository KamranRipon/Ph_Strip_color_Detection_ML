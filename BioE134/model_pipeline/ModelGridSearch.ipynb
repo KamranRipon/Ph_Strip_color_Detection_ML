{
 "cells": [
  {
   "cell_type": "code",
   "execution_count": 35,
   "metadata": {
    "collapsed": true
   },
   "outputs": [],
   "source": [
    "import numpy as np\n",
    "from sklearn.model_selection import GridSearchCV\n",
    "from scipy.ndimage import imread\n",
    "import glob\n",
    "import matplotlib.pyplot as plt\n",
    "\n",
    "%run ../util.ipynb"
   ]
  },
  {
   "cell_type": "markdown",
   "metadata": {},
   "source": [
    "## Import data based on pipeline type"
   ]
  },
  {
   "cell_type": "code",
   "execution_count": 3,
   "metadata": {
    "collapsed": true
   },
   "outputs": [],
   "source": [
    "def import_data(pipeline_type):\n",
    "    X = np.load(\"../data_matrices/X.npy\")\n",
    "    Y = np.load(\"../data_matrices/Y.npy\")\n",
    "    \n",
    "    if pipeline_type == 'classification':\n",
    "        Y = np.array([int(np.round(y)) for y in Y])\n",
    "    return X,Y"
   ]
  },
  {
   "cell_type": "code",
   "execution_count": 27,
   "metadata": {
    "collapsed": true
   },
   "outputs": [],
   "source": [
    "def import_data2(pipeline_type):\n",
    "    X = [imread(x).flatten() for x in glob.glob('../raw_data/*.jpg')]\n",
    "    Y = np.load(\"../data_matrices/Y.npy\")\n",
    "    \n",
    "    if pipeline_type == 'classification':\n",
    "        Y = np.array([int(np.round(y)) for y in Y])\n",
    "    return X,Y"
   ]
  },
  {
   "cell_type": "markdown",
   "metadata": {},
   "source": [
    "## Create model dictionary"
   ]
  },
  {
   "cell_type": "code",
   "execution_count": 4,
   "metadata": {
    "collapsed": true
   },
   "outputs": [],
   "source": [
    "def create_model_dict():\n",
    "    model_dict_reg = {}\n",
    "    model_dict_clf = {}\n",
    "    model_dict = {'regression':model_dict_reg, 'classification':model_dict_clf}\n",
    "    \n",
    "    model_dict_reg['ridge'] = (ridge_regression_pipeline, ridge_regression_parameters)\n",
    "    model_dict_reg['lasso'] = (lasso_regression_pipeline, lasso_regression_parameters)\n",
    "    model_dict_reg['en'] = (elastic_net_regression_pipeline, elastic_net_regression_parameters)\n",
    "    model_dict_reg['knn'] = (knn_regression_pipeline, knn_regression_parameters)\n",
    "    \n",
    "    model_dict_clf['knn'] = (knn_classification_pipeline, knn_classification_parameters)\n",
    "    model_dict_clf['svm'] = (svm_classification_pipeline, svm_classification_parameters)\n",
    "    model_dict_clf['lda'] = (lda_classification_pipeline, lda_classification_parameters)\n",
    "    model_dict_clf['qda'] = (qda_classification_pipeline, qda_classification_parameters)\n",
    "    \n",
    "    return model_dict"
   ]
  },
  {
   "cell_type": "markdown",
   "metadata": {},
   "source": [
    "## Grid Search"
   ]
  },
  {
   "cell_type": "code",
   "execution_count": 116,
   "metadata": {
    "collapsed": true
   },
   "outputs": [],
   "source": [
    "def grid_search(X, Y, pipeline_name, pipeline_type):\n",
    "    pipeline, parameters = model_dict[pipeline_type][pipeline_name]\n",
    "    if pipeline_type == 'regression':\n",
    "        grid = GridSearchCV(estimator=pipeline, param_grid=parameters, scoring='neg_mean_squared_error')\n",
    "        grid.fit(X, Y)\n",
    "        return -grid.best_score_, grid.best_estimator_\n",
    "    elif pipeline_type == 'classification':\n",
    "        grid = GridSearchCV(estimator=pipeline, param_grid=parameters, scoring='accuracy')\n",
    "        grid.fit(X, Y)\n",
    "        return grid.best_score_, grid.best_estimator_"
   ]
  },
  {
   "cell_type": "markdown",
   "metadata": {},
   "source": [
    "## MAIN"
   ]
  },
  {
   "cell_type": "code",
   "execution_count": 54,
   "metadata": {},
   "outputs": [
    {
     "name": "stderr",
     "output_type": "stream",
     "text": [
      "/Users/rudramehta/anaconda3/lib/python3.6/site-packages/scipy/linalg/basic.py:223: RuntimeWarning: scipy.linalg.solve\n",
      "Ill-conditioned matrix detected. Result is not guaranteed to be accurate.\n",
      "Reciprocal condition number: 7.530088740184848e-17\n",
      "  ' condition number: {}'.format(rcond), RuntimeWarning)\n",
      "/Users/rudramehta/anaconda3/lib/python3.6/site-packages/scipy/linalg/basic.py:223: RuntimeWarning: scipy.linalg.solve\n",
      "Ill-conditioned matrix detected. Result is not guaranteed to be accurate.\n",
      "Reciprocal condition number: 9.893472941621136e-18\n",
      "  ' condition number: {}'.format(rcond), RuntimeWarning)\n",
      "/Users/rudramehta/anaconda3/lib/python3.6/site-packages/scipy/linalg/basic.py:223: RuntimeWarning: scipy.linalg.solve\n",
      "Ill-conditioned matrix detected. Result is not guaranteed to be accurate.\n",
      "Reciprocal condition number: 1.0624902771565558e-16\n",
      "  ' condition number: {}'.format(rcond), RuntimeWarning)\n",
      "/Users/rudramehta/anaconda3/lib/python3.6/site-packages/scipy/linalg/basic.py:223: RuntimeWarning: scipy.linalg.solve\n",
      "Ill-conditioned matrix detected. Result is not guaranteed to be accurate.\n",
      "Reciprocal condition number: 2.843846853957198e-17\n",
      "  ' condition number: {}'.format(rcond), RuntimeWarning)\n"
     ]
    },
    {
     "name": "stdout",
     "output_type": "stream",
     "text": [
      "[[  6.35483687e-06   8.19194223e-07   7.62200072e-06 ...,   1.11100310e-05\n",
      "   -1.68592595e-06  -2.13826126e-06]]\n",
      "\n",
      "\n",
      "6.94858930745 Pipeline(memory=None,\n",
      "     steps=[('scale', StandardScaler(copy=True, with_mean=True, with_std=True)), ('ridge', Ridge(alpha=0, copy_X=True, fit_intercept=True, max_iter=None,\n",
      "   normalize=False, random_state=None, solver='auto', tol=0.001))])\n"
     ]
    }
   ],
   "source": [
    "%run pipelines.py\n",
    "%run parameters.py\n",
    "model_dict = create_model_dict()\n",
    "\n",
    "\n",
    "pipeline_name = 'ridge'\n",
    "pipeline_type = 'regression'\n",
    "# pipeline_type = 'classification'\n",
    "\n",
    "X,Y = import_data2(pipeline_type)\n",
    "\n",
    "score, params = grid_search(X, Y, pipeline_name, pipeline_type)\n",
    "\n",
    "print(score, params)"
   ]
  }
 ],
 "metadata": {
  "kernelspec": {
   "display_name": "Python 3",
   "language": "python",
   "name": "python3"
  },
  "language_info": {
   "codemirror_mode": {
    "name": "ipython",
    "version": 3
   },
   "file_extension": ".py",
   "mimetype": "text/x-python",
   "name": "python",
   "nbconvert_exporter": "python",
   "pygments_lexer": "ipython3",
   "version": "3.6.3"
  }
 },
 "nbformat": 4,
 "nbformat_minor": 2
}

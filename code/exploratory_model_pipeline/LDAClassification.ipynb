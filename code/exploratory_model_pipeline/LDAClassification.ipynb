{
 "cells": [
  {
   "cell_type": "code",
   "execution_count": 2,
   "metadata": {},
   "outputs": [],
   "source": [
    "import numpy as np\n",
    "from sklearn.discriminant_analysis import LinearDiscriminantAnalysis"
   ]
  },
  {
   "cell_type": "code",
   "execution_count": 3,
   "metadata": {
    "collapsed": true
   },
   "outputs": [],
   "source": [
    "class LDAClassificationModel():\n",
    "    \n",
    "    def __init__(self, solver, shrinkage, n):\n",
    "        self.solver = solver\n",
    "        if self.solver != \"svd\":\n",
    "            self.shrinkage = shrinkage\n",
    "        else:\n",
    "            self.shrinkage = None\n",
    "        self.n = n\n",
    "    \n",
    "    def train(self, X, Y):\n",
    "        self.model = LinearDiscriminantAnalysis(solver=self.solver, shrinkage=self.shrinkage, n_components = self.n)\n",
    "        self.model.fit(X, Y)\n",
    "    \n",
    "    def predict(self, X):\n",
    "        return self.model.predict(X)"
   ]
  },
  {
   "cell_type": "code",
   "execution_count": null,
   "metadata": {
    "collapsed": true
   },
   "outputs": [],
   "source": []
  }
 ],
 "metadata": {
  "kernelspec": {
   "display_name": "Python 3",
   "language": "python",
   "name": "python3"
  },
  "language_info": {
   "codemirror_mode": {
    "name": "ipython",
    "version": 3
   },
   "file_extension": ".py",
   "mimetype": "text/x-python",
   "name": "python",
   "nbconvert_exporter": "python",
   "pygments_lexer": "ipython3",
   "version": "3.6.3"
  }
 },
 "nbformat": 4,
 "nbformat_minor": 2
}

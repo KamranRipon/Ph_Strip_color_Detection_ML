{
 "cells": [
  {
   "cell_type": "code",
   "execution_count": 36,
   "metadata": {
    "collapsed": true
   },
   "outputs": [],
   "source": [
    "import numpy as np\n",
    "from sklearn.model_selection import GridSearchCV\n",
    "\n",
    "%run ../util.ipynb"
   ]
  },
  {
   "cell_type": "markdown",
   "metadata": {},
   "source": [
    "## Import data based on pipeline type"
   ]
  },
  {
   "cell_type": "code",
   "execution_count": 3,
   "metadata": {},
   "outputs": [],
   "source": [
    "def import_data(pipeline_type):\n",
    "    X = np.load(\"../data_matrices/X.npy\")\n",
    "    Y = np.load(\"../data_matrices/Y.npy\")\n",
    "    \n",
    "    if pipeline_type == 'classification':\n",
    "        Y = np.array([int(np.round(y)) for y in Y])\n",
    "    return X,Y"
   ]
  },
  {
   "cell_type": "markdown",
   "metadata": {},
   "source": [
    "## Create model dictionary"
   ]
  },
  {
   "cell_type": "code",
   "execution_count": 20,
   "metadata": {},
   "outputs": [],
   "source": [
    "def create_model_dict():\n",
    "    model_dict_reg = {}\n",
    "    model_dict_clf = {}\n",
    "    model_dict = {'regression':model_dict_reg, 'classification':model_dict_clf}\n",
    "    \n",
    "    model_dict_reg['ridge'] = (ridge_regression_pipeline, ridge_regression_parameters)\n",
    "    model_dict_reg['lasso'] = (lasso_regression_pipeline, lasso_regression_parameters)\n",
    "    model_dict_reg['knn'] = (knn_regression_pipeline, knn_regression_parameters)\n",
    "    \n",
    "    model_dict_clf['knn'] = (knn_classification_pipeline, knn_classification_parameters)\n",
    "    model_dict_clf['svm'] = (svm_classification_pipeline, svm_classification_parameters)\n",
    "    model_dict_clf['lda'] = (lda_classification_pipeline, lda_classification_parameters)\n",
    "    model_dict_clf['qda'] = (qda_classification_pipeline, qda_classification_parameters)\n",
    "    \n",
    "    return model_dict"
   ]
  },
  {
   "cell_type": "markdown",
   "metadata": {},
   "source": [
    "## Grid Search"
   ]
  },
  {
   "cell_type": "code",
   "execution_count": 80,
   "metadata": {
    "collapsed": true
   },
   "outputs": [],
   "source": [
    "def grid_search(X, Y, pipeline_name, pipeline_type):\n",
    "    pipeline, parameters = model_dict[pipeline_type][pipeline_name]\n",
    "    if pipeline_type == 'regression':\n",
    "        grid = GridSearchCV(estimator=pipeline, param_grid=parameters, scoring='neg_mean_squared_error')\n",
    "        grid.fit(X, Y)\n",
    "        if hasattr(grid.best_estimator_.named_steps[pipeline_name], 'coef_'):\n",
    "            print(grid.best_estimator_.named_steps[pipeline_name].coef_)\n",
    "            print('\\n')\n",
    "        return -grid.best_score_, grid.best_estimator_\n",
    "    elif pipeline_type == 'classification':\n",
    "        grid = GridSearchCV(estimator=pipeline, param_grid=parameters, scoring='accuracy')\n",
    "        grid.fit(X, Y)\n",
    "        return grid.best_score_, grid.best_estimator_"
   ]
  },
  {
   "cell_type": "markdown",
   "metadata": {},
   "source": [
    "## MAIN"
   ]
  },
  {
   "cell_type": "code",
   "execution_count": 81,
   "metadata": {},
   "outputs": [
    {
     "name": "stdout",
     "output_type": "stream",
     "text": [
      "[ -2.17029538e+00   2.58730965e-01   8.82280365e-02  -1.17100771e-01\n",
      "  -5.84797218e-02   2.41384933e-03  -1.26204343e-02  -0.00000000e+00\n",
      "   0.00000000e+00   0.00000000e+00  -5.29545583e-02  -7.97141502e-05]\n",
      "\n",
      "\n",
      "0.135660708868 Pipeline(memory=None,\n",
      "     steps=[('pca', PCA(copy=True, iterated_power='auto', n_components=12, random_state=None,\n",
      "  svd_solver='auto', tol=0.0, whiten=False)), ('scale', StandardScaler(copy=True, with_mean=True, with_std=True)), ('lasso', Lasso(alpha=0.055000000000000035, copy_X=True, fit_intercept=True,\n",
      "   max_iter=1000, normalize=False, positive=False, precompute=False,\n",
      "   random_state=None, selection='cyclic', tol=0.0001, warm_start=False))])\n"
     ]
    }
   ],
   "source": [
    "%run pipelines.py\n",
    "%run parameters.py\n",
    "model_dict = create_model_dict()\n",
    "\n",
    "\n",
    "pipeline_name = 'lasso'\n",
    "pipeline_type = 'regression'\n",
    "# pipeline_type = 'classification'\n",
    "\n",
    "X,Y = import_data(pipeline_type)\n",
    "\n",
    "score, params = grid_search(X, Y, pipeline_name, pipeline_type)\n",
    "\n",
    "print(score, params)"
   ]
  },
  {
   "cell_type": "code",
   "execution_count": 89,
   "metadata": {},
   "outputs": [
    {
     "name": "stdout",
     "output_type": "stream",
     "text": [
      "[[-2.22529538  0.31373097  0.14322804 -0.17210077 -0.11347972  0.05741385]]\n",
      "\n",
      "\n",
      "0.211751340381 Pipeline(memory=None,\n",
      "     steps=[('pca', PCA(copy=True, iterated_power='auto', n_components=6, random_state=None,\n",
      "  svd_solver='auto', tol=0.0, whiten=False)), ('scale', StandardScaler(copy=True, with_mean=True, with_std=True)), ('ridge', Ridge(alpha=0.0, copy_X=True, fit_intercept=True, max_iter=None,\n",
      "   normalize=False, random_state=None, solver='auto', tol=0.001))])\n"
     ]
    }
   ],
   "source": [
    "%run pipelines.py\n",
    "%run parameters.py\n",
    "model_dict = create_model_dict()\n",
    "\n",
    "\n",
    "pipeline_name = 'ridge'\n",
    "pipeline_type = 'regression'\n",
    "# pipeline_type = 'classification'\n",
    "\n",
    "X,Y = import_data(pipeline_type)\n",
    "\n",
    "score, params = grid_search(X, Y, pipeline_name, pipeline_type)\n",
    "\n",
    "print(score, params)"
   ]
  },
  {
   "cell_type": "code",
   "execution_count": null,
   "metadata": {
    "collapsed": true
   },
   "outputs": [],
   "source": []
  }
 ],
 "metadata": {
  "kernelspec": {
   "display_name": "Python 3",
   "language": "python",
   "name": "python3"
  },
  "language_info": {
   "codemirror_mode": {
    "name": "ipython",
    "version": 3
   },
   "file_extension": ".py",
   "mimetype": "text/x-python",
   "name": "python",
   "nbconvert_exporter": "python",
   "pygments_lexer": "ipython3",
   "version": "3.6.3"
  }
 },
 "nbformat": 4,
 "nbformat_minor": 2
}

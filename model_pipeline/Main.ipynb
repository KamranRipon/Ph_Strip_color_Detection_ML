{
 "cells": [
  {
   "cell_type": "code",
   "execution_count": null,
   "metadata": {},
   "outputs": [],
   "source": [
    "import numpy as np\n",
    "from sklearn.preprocessing import StandardScaler\n",
    "from sklearn.utils import shuffle\n",
    "\n",
    "%run RidgeLSRegression.ipynb\n",
    "%run NeuralNetRegression.ipynb\n",
    "%run NearestNeighborRegression.ipynb\n",
    "%run NearestNeighborClassification.ipynb\n",
    "%run LDAClassification.ipynb\n",
    "%run QDAClassification.ipynb\n",
    "%run NeuralNetClassification.ipynb\n",
    "%run SVMClassification.ipynb"
   ]
  },
  {
   "cell_type": "markdown",
   "metadata": {},
   "source": [
    "## Import Pre-Processed Data"
   ]
  },
  {
   "cell_type": "code",
   "execution_count": null,
   "metadata": {},
   "outputs": [],
   "source": [
    "X = np.random.uniform(size=[10, 10])\n",
    "Y = np.random.uniform(size=[10, 1])\n",
    "\n",
    "X = np.load(\"../data_matrices/X.npy\")\n",
    "Y = np.load(\"../data_matrices/Y.npy\")\n",
    "\n",
    "ss_x = StandardScaler()\n",
    "ss_y = StandardScaler()\n",
    "\n",
    "X_scaled = ss_x.fit_transform(X)\n",
    "Y_scaled = ss_y.fit_transform(Y)\n",
    "\n",
    "print(X.shape)\n",
    "print(Y.shape)"
   ]
  },
  {
   "cell_type": "markdown",
   "metadata": {},
   "source": [
    "## Ridge LS Regression Model"
   ]
  },
  {
   "cell_type": "markdown",
   "metadata": {},
   "source": [
    "Train/Test on everything"
   ]
  },
  {
   "cell_type": "code",
   "execution_count": null,
   "metadata": {},
   "outputs": [],
   "source": [
    "train_loss = []\n",
    "\n",
    "for _ in range(10000):\n",
    "    ridge_m = RidgeLSRegressionModel()\n",
    "\n",
    "    ridge_m.train(X,Y)\n",
    "    Yhat = ridge_m.predict(X)\n",
    "    MSE = np.sum((Y - Yhat)**2)/len(Y)\n",
    "    train_loss.append(MSE)\n",
    "print(\"train loss: \" + str(np.mean(train_loss)))"
   ]
  },
  {
   "cell_type": "markdown",
   "metadata": {},
   "source": [
    "Train/Test on half each"
   ]
  },
  {
   "cell_type": "code",
   "execution_count": null,
   "metadata": {},
   "outputs": [],
   "source": [
    "for l in np.arange(0,.02,.001):\n",
    "    train_loss = []\n",
    "    test_loss = []\n",
    "\n",
    "    for _ in range(10000):\n",
    "        X_shuf, Y_shuf, Y_s = shuffle(X_scaled, Y_scaled, Y)\n",
    "        X_train = X_shuf[:len(X)//2]\n",
    "        Y_train = Y_shuf[:len(Y)//2]\n",
    "        Y_s_train = Y_s[:len(Y)//2]\n",
    "        X_test = X_shuf[len(X)//2:]\n",
    "        Y_test = Y_shuf[len(Y)//2:]\n",
    "        Y_s_test = Y_s[len(Y)//2:]\n",
    "        \n",
    "\n",
    "        ridge_m2 = RidgeLSRegressionModel(lmda=l)\n",
    "\n",
    "        ridge_m2.train(X_train,Y_train)\n",
    "        \n",
    "        Yhat_train = ridge_m2.predict(X_train)\n",
    "        MSE_train = np.sum((Y_s_train - ss_y.inverse_transform(Yhat_train))**2)/len(Y_train)\n",
    "        train_loss.append(MSE_train)\n",
    "\n",
    "        Yhat_test = ridge_m2.predict(X_test)\n",
    "        MSE_test = np.sum((Y_s_test - ss_y.inverse_transform(Yhat_test))**2)/len(Y_test)\n",
    "        test_loss.append(MSE_test)\n",
    "\n",
    "    print(\"train loss: lambda = \" + str(l) + \" is \" + str(np.mean(train_loss)))\n",
    "    print(\" test loss: lambda = \" + str(l) + \" is \" + str(np.mean(test_loss)))"
   ]
  },
  {
   "cell_type": "code",
   "execution_count": null,
   "metadata": {
    "collapsed": true
   },
   "outputs": [],
   "source": []
  }
 ],
 "metadata": {
  "kernelspec": {
   "display_name": "Python 3",
   "language": "python",
   "name": "python3"
  },
  "language_info": {
   "codemirror_mode": {
    "name": "ipython",
    "version": 3
   },
   "file_extension": ".py",
   "mimetype": "text/x-python",
   "name": "python",
   "nbconvert_exporter": "python",
   "pygments_lexer": "ipython3",
   "version": "3.6.3"
  }
 },
 "nbformat": 4,
 "nbformat_minor": 2
}

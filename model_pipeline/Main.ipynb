{
 "cells": [
  {
   "cell_type": "code",
   "execution_count": 27,
   "metadata": {},
   "outputs": [],
   "source": [
    "import numpy as np\n",
    "%run RidgeLSRegression.ipynb\n",
    "%run NeuralNetRegression.ipynb\n",
    "%run NearestNeighborRegression.ipynb\n",
    "%run NearestNeighborClassification.ipynb\n",
    "%run LDAClassification.ipynb\n",
    "%run QDAClassification.ipynb\n",
    "%run NeuralNetClassification.ipynb\n",
    "%run SVMClassification.ipynb"
   ]
  },
  {
   "cell_type": "markdown",
   "metadata": {},
   "source": [
    "## Import Pre-Processed Data"
   ]
  },
  {
   "cell_type": "code",
   "execution_count": 25,
   "metadata": {},
   "outputs": [],
   "source": [
    "X = np.random.uniform(size=[10, 10])\n",
    "Y = np.random.uniform(size=[10, 1])"
   ]
  },
  {
   "cell_type": "markdown",
   "metadata": {},
   "source": [
    "## Ridge LS Regression Model"
   ]
  },
  {
   "cell_type": "code",
   "execution_count": 26,
   "metadata": {},
   "outputs": [
    {
     "data": {
      "text/plain": [
       "array([[ 0.8927275 ],\n",
       "       [ 1.00635915],\n",
       "       [ 0.26292368],\n",
       "       [ 0.42719511],\n",
       "       [ 0.08966099],\n",
       "       [ 0.54168468],\n",
       "       [ 0.89948888],\n",
       "       [ 0.43817495],\n",
       "       [ 0.50415011],\n",
       "       [ 0.62543306]])"
      ]
     },
     "execution_count": 26,
     "metadata": {},
     "output_type": "execute_result"
    }
   ],
   "source": [
    "ridge_m = RidgeLSRegressionModel()\n",
    "\n",
    "ridge_m.train(X,Y)\n",
    "ridge_m.predict(X)"
   ]
  },
  {
   "cell_type": "code",
   "execution_count": null,
   "metadata": {},
   "outputs": [],
   "source": []
  }
 ],
 "metadata": {
  "kernelspec": {
   "display_name": "Python 3",
   "language": "python",
   "name": "python3"
  },
  "language_info": {
   "codemirror_mode": {
    "name": "ipython",
    "version": 3
   },
   "file_extension": ".py",
   "mimetype": "text/x-python",
   "name": "python",
   "nbconvert_exporter": "python",
   "pygments_lexer": "ipython3",
   "version": "3.6.3"
  }
 },
 "nbformat": 4,
 "nbformat_minor": 2
}

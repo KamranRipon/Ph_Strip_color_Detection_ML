{
 "cells": [
  {
   "cell_type": "code",
   "execution_count": null,
   "metadata": {
    "collapsed": true
   },
   "outputs": [],
   "source": [
    "import numpy as np\n",
    "import numpy.ma as ma\n",
    "import cv2\n",
    "from matplotlib import pyplot as plt\n",
    "\n",
    "from skimage import filters\n",
    "\n",
    "from scipy import ndimage"
   ]
  },
  {
   "cell_type": "code",
   "execution_count": null,
   "metadata": {
    "collapsed": true
   },
   "outputs": [],
   "source": [
    "raw_data_dir = \"raw_data/\""
   ]
  },
  {
   "cell_type": "code",
   "execution_count": null,
   "metadata": {
    "collapsed": true
   },
   "outputs": [],
   "source": [
    "def show_color_im(img):\n",
    "    plt.imshow(cv2.cvtColor(img, cv2.COLOR_BGR2RGB))\n",
    "def save_color_im(img2):\n",
    "    plt.imsave(\"masked_data/2p22_09.png\", cv2.cvtColor(img2, cv2.COLOR_BGR2RGB))"
   ]
  },
  {
   "cell_type": "code",
   "execution_count": null,
   "metadata": {},
   "outputs": [],
   "source": [
    "img = cv2.imread(raw_data_dir + '7p70_04.jpg')\n",
    "img = img[5:-500,25:-25]\n",
    "gray = cv2.cvtColor(img,cv2.COLOR_BGR2GRAY)\n",
    "\n",
    "\n",
    "kernel = np.ones((3,3),np.uint8)\n",
    "init_closed = cv2.morphologyEx(gray,cv2.MORPH_CLOSE,kernel, iterations = 10)\n",
    "plt.imshow(gray)\n",
    "plt.show()\n",
    "plt.imshow(init_closed)\n",
    "plt.show()"
   ]
  },
  {
   "cell_type": "code",
   "execution_count": null,
   "metadata": {},
   "outputs": [],
   "source": [
    "gray = init_closed\n",
    "sobel_v = filters.sobel_v(gray)\n",
    "sobel_h = filters.sobel_h(gray)\n",
    "sobel_v = filters.gaussian(sobel_v, sigma=2.0)\n",
    "sobel_h = filters.gaussian(sobel_h, sigma=2.0)\n",
    "\n",
    "plt.imshow(sobel_h, cmap='gray')\n",
    "plt.show()\n",
    "mask_v = np.abs(sobel_v) > .03\n",
    "mask_h = np.abs(sobel_h) > .03\n",
    "# Coordinates of non-black pixels.\n",
    "coords_y = np.argwhere(mask_v)\n",
    "coords_x = np.argwhere(mask_h)\n",
    "\n",
    "# Bounding box of non-black pixels.\n",
    "x0 = max(coords_x.min(axis=0)[0] - 50,0)\n",
    "x1 = coords_x.max(axis=0)[0] + 51\n",
    "y0 = max(coords_y.min(axis=0)[1] - 50,0)\n",
    "y1 = coords_y.max(axis=0)[1] + 51\n",
    "# x0, y0 = coords.min(axis=0) - 30\n",
    "# x1, y1 = coords.max(axis=0) + 31   # slices are exclusive at the top\n",
    "print(x0,x1,y0,y1)\n",
    "# Get the contents of the bounding box.\n",
    "cropped_gray = gray[x0:x1, y0:y1]\n",
    "cropped_img = img[x0:x1, y0:y1]\n",
    "plt.imshow(cropped_gray)\n",
    "plt.show()"
   ]
  },
  {
   "cell_type": "code",
   "execution_count": null,
   "metadata": {},
   "outputs": [],
   "source": [
    "thresh_val = np.median(cropped_gray)/1.05\n",
    "ret, thresh = cv2.threshold(cropped_gray,thresh_val,255,cv2.THRESH_BINARY_INV)\n",
    "plt.imshow(thresh)\n",
    "plt.show()"
   ]
  },
  {
   "cell_type": "code",
   "execution_count": null,
   "metadata": {},
   "outputs": [],
   "source": [
    "kernel = np.ones((3,3),np.uint8)\n",
    "plt.imshow(thresh)\n",
    "plt.show()\n",
    "\n",
    "closing = cv2.morphologyEx(thresh,cv2.MORPH_CLOSE,kernel, iterations = 2)\n",
    "plt.imshow(closing)\n",
    "plt.show()\n",
    "blobs, num_blobs = ndimage.label(closing)\n",
    "iters = 5\n",
    "opening = closing\n",
    "while num_blobs != 4:\n",
    "    opening = cv2.morphologyEx(closing,cv2.MORPH_OPEN,kernel, iterations = iters)\n",
    "    iters += 5\n",
    "    blobs, num_blobs = ndimage.label(opening)\n",
    "plt.imshow(opening)\n",
    "plt.show()"
   ]
  },
  {
   "cell_type": "code",
   "execution_count": null,
   "metadata": {},
   "outputs": [],
   "source": [
    "dist_transform = cv2.distanceTransform(opening,cv2.DIST_L2,5)\n",
    "ret, sure_fg = cv2.threshold(dist_transform,0.4*dist_transform.max(),255,0)\n",
    "plt.imshow(sure_fg)\n",
    "plt.show()"
   ]
  },
  {
   "cell_type": "code",
   "execution_count": null,
   "metadata": {},
   "outputs": [],
   "source": [
    "mask = cv2.cvtColor(sure_fg,cv2.COLOR_GRAY2RGB)\n",
    "print(mask.shape)\n",
    "print(cropped_img.shape)\n",
    "img_masked = cropped_img.copy()\n",
    "img_masked[mask==0] = 0\n",
    "plt.imshow(cv2.cvtColor(img_masked, cv2.COLOR_BGR2RGB))\n",
    "# show_color_im(img_masked)\n",
    "save_color_im(img_masked)\n",
    "plt.show()\n",
    "show_color_im(img)\n",
    "plt.show()"
   ]
  },
  {
   "cell_type": "code",
   "execution_count": null,
   "metadata": {},
   "outputs": [],
   "source": [
    "sobel = filters.sobel(gray)\n",
    "blurred = filters.gaussian(sobel, sigma=2.0)\n",
    "plt.imshow(sobel)\n",
    "plt.show()\n"
   ]
  },
  {
   "cell_type": "code",
   "execution_count": null,
   "metadata": {},
   "outputs": [],
   "source": [
    "mask = sobel > .2\n",
    "print(sobel[50,200])\n",
    "# Coordinates of non-black pixels.\n",
    "coords = np.argwhere(mask)\n",
    "print(coords.max(axis=0))\n",
    "# Bounding box of non-black pixels.\n",
    "x0, y0 = coords.min(axis=0)\n",
    "x1, y1 = coords.max(axis=0) + 1   # slices are exclusive at the top\n",
    "\n",
    "# Get the contents of the bounding box.\n",
    "cropped = img[x0:x1, y0:y1]\n",
    "plt.imshow(img)\n",
    "plt.show()\n",
    "plt.imshow(cropped)\n",
    "plt.show()"
   ]
  },
  {
   "cell_type": "code",
   "execution_count": null,
   "metadata": {
    "collapsed": true
   },
   "outputs": [],
   "source": []
  }
 ],
 "metadata": {
  "kernelspec": {
   "display_name": "Python 3",
   "language": "python",
   "name": "python3"
  },
  "language_info": {
   "codemirror_mode": {
    "name": "ipython",
    "version": 3
   },
   "file_extension": ".py",
   "mimetype": "text/x-python",
   "name": "python",
   "nbconvert_exporter": "python",
   "pygments_lexer": "ipython3",
   "version": "3.6.3"
  }
 },
 "nbformat": 4,
 "nbformat_minor": 2
}

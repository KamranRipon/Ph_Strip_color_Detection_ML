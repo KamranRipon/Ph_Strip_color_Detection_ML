{
 "cells": [
  {
   "cell_type": "code",
   "execution_count": null,
   "metadata": {},
   "outputs": [],
   "source": [
    "import numpy as np\n",
    "from sklearn.model_selection import GridSearchCV\n",
    "import matplotlib.pyplot as plt"
   ]
  },
  {
   "cell_type": "markdown",
   "metadata": {},
   "source": [
    "## Create model dictionary"
   ]
  },
  {
   "cell_type": "code",
   "execution_count": null,
   "metadata": {
    "collapsed": true
   },
   "outputs": [],
   "source": [
    "def create_model_dict():\n",
    "    model_dict_reg = {}\n",
    "    model_dict_clf = {}\n",
    "    model_dict = {'regression':model_dict_reg, 'classification':model_dict_clf}\n",
    "    \n",
    "    model_dict_reg['ridge'] = (ridge_regression_pipeline, ridge_regression_parameters)\n",
    "    model_dict_reg['lasso'] = (lasso_regression_pipeline, lasso_regression_parameters)\n",
    "    model_dict_reg['en'] = (elastic_net_regression_pipeline, elastic_net_regression_parameters)\n",
    "    model_dict_reg['knn'] = (knn_regression_pipeline, knn_regression_parameters)\n",
    "    \n",
    "    model_dict_clf['knn'] = (knn_classification_pipeline, knn_classification_parameters)\n",
    "    model_dict_clf['svm'] = (svm_classification_pipeline, svm_classification_parameters)\n",
    "    model_dict_clf['lda'] = (lda_classification_pipeline, lda_classification_parameters)\n",
    "    model_dict_clf['qda'] = (qda_classification_pipeline, qda_classification_parameters)\n",
    "    \n",
    "    return model_dict"
   ]
  },
  {
   "cell_type": "markdown",
   "metadata": {},
   "source": [
    "## Grid Search"
   ]
  },
  {
   "cell_type": "code",
   "execution_count": null,
   "metadata": {
    "collapsed": true
   },
   "outputs": [],
   "source": [
    "def grid_search(X, Y, pipeline_name, pipeline_type):\n",
    "    pipeline, parameters = model_dict[pipeline_type][pipeline_name]\n",
    "    if pipeline_type == 'regression':\n",
    "        grid = GridSearchCV(estimator=pipeline, param_grid=parameters, scoring='neg_mean_squared_error')\n",
    "        grid.fit(X, Y)\n",
    "        return -grid.best_score_, grid.best_estimator_\n",
    "    elif pipeline_type == 'classification':\n",
    "        grid = GridSearchCV(estimator=pipeline, param_grid=parameters, scoring='accuracy')\n",
    "        grid.fit(X, Y)\n",
    "        return grid.best_score_, grid.best_estimator_"
   ]
  },
  {
   "cell_type": "markdown",
   "metadata": {},
   "source": [
    "## MAIN"
   ]
  },
  {
   "cell_type": "code",
   "execution_count": null,
   "metadata": {},
   "outputs": [],
   "source": [
    "%run pipelines.py\n",
    "%run parameters.py\n",
    "%run util.py\n",
    "\n",
    "model_dict = create_model_dict()\n",
    "\n",
    "pipeline_name = 'svm'\n",
    "pipeline_type = 'classification'\n",
    "\n",
    "X,Y = load_data(pipeline_type, raw=True, gamma=False, rotate=False, mixed=False)\n",
    "print(np.shape(X))\n",
    "print(np.shape(Y))\n",
    "# print(Y)\n",
    "score, params = grid_search(X, Y, pipeline_name, pipeline_type)\n",
    "\n",
    "print(score, params)"
   ]
  },
  {
   "cell_type": "code",
   "execution_count": null,
   "metadata": {
    "collapsed": true
   },
   "outputs": [],
   "source": []
  }
 ],
 "metadata": {
  "kernelspec": {
   "display_name": "Python 3",
   "language": "python",
   "name": "python3"
  },
  "language_info": {
   "codemirror_mode": {
    "name": "ipython",
    "version": 3
   },
   "file_extension": ".py",
   "mimetype": "text/x-python",
   "name": "python",
   "nbconvert_exporter": "python",
   "pygments_lexer": "ipython3",
   "version": "3.6.3"
  }
 },
 "nbformat": 4,
 "nbformat_minor": 2
}

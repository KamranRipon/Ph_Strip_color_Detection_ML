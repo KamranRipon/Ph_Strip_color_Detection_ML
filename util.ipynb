{
 "cells": [
  {
   "cell_type": "code",
   "execution_count": 5,
   "metadata": {},
   "outputs": [],
   "source": [
    "import numpy as np\n",
    "from sklearn.preprocessing import StandardScaler\n",
    "from sklearn.utils import shuffle"
   ]
  },
  {
   "cell_type": "code",
   "execution_count": 9,
   "metadata": {},
   "outputs": [],
   "source": [
    "def computeMSE(yScaled1, yScaled2, scaler=None):\n",
    "    if scaler:\n",
    "        yScaled1 = scaler.inverse_transform(yScaled1)\n",
    "        yScaled2 = scaler.inverse_transform(yScaled2)\n",
    "        return np.sum((yScaled1 - yScaled2)**2)/len(yScaled1)\n",
    "    else:\n",
    "        return np.sum((yScaled1 - yScaled2)**2)/len(yScaled1)"
   ]
  },
  {
   "cell_type": "code",
   "execution_count": 10,
   "metadata": {},
   "outputs": [],
   "source": [
    "# Assumes X, Y inputs are already scaled down.\n",
    "def computeTrainError(model, X, Y, YScaler):\n",
    "    model.train(X,Y)\n",
    "    YHat = model.predict(X)\n",
    "    YHat.shape = [YHat.shape[0], 1]\n",
    "    return computeMSE(Y, YHat, YScaler)"
   ]
  },
  {
   "cell_type": "code",
   "execution_count": 11,
   "metadata": {},
   "outputs": [],
   "source": [
    "# Assumes X, Y inputs are already scaled down.\n",
    "# k refers to the number of partitions for k-fold cross-validation.\n",
    "def computeTestError(model, X, Y, YScaler, k=10):\n",
    "    np.random.seed(0)\n",
    "    test_errors = []\n",
    "    X, Y = shuffle(X, Y)\n",
    "    N = len(Y)\n",
    "    # Performing k-fold cross-validation.\n",
    "    for k_i in range(k):\n",
    "        XTrain = np.vstack([X[0 : (int)(k_i / k * N), :], X[(int)((k_i+1) / k * N) : , :]])\n",
    "        YTrain = np.vstack([Y[0 : (int)(k_i / k * N), :], Y[(int)((k_i+1) / k * N) : , :]])\n",
    "        XTest = X[(int)(k_i / k * N) : (int)((k_i+1) / k * N), :]\n",
    "        YTest = Y[(int)(k_i / k * N) : (int)((k_i+1) / k * N), :]\n",
    "        model.train(XTrain,YTrain)\n",
    "        YHat = model.predict(XTest)\n",
    "        YHat.shape = [YHat.shape[0], 1]\n",
    "        test_errors += [computeMSE(YTest, YHat, YScaler)]\n",
    "    return np.mean(test_errors)"
   ]
  },
  {
   "cell_type": "code",
   "execution_count": null,
   "metadata": {},
   "outputs": [],
   "source": []
  }
 ],
 "metadata": {
  "kernelspec": {
   "display_name": "Python 3",
   "language": "python",
   "name": "python3"
  },
  "language_info": {
   "codemirror_mode": {
    "name": "ipython",
    "version": 3
   },
   "file_extension": ".py",
   "mimetype": "text/x-python",
   "name": "python",
   "nbconvert_exporter": "python",
   "pygments_lexer": "ipython3",
   "version": "3.6.3"
  }
 },
 "nbformat": 4,
 "nbformat_minor": 2
}

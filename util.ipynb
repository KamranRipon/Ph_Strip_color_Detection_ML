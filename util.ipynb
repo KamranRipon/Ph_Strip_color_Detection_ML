{
 "cells": [
  {
   "cell_type": "code",
   "execution_count": 1,
   "metadata": {
    "collapsed": true
   },
   "outputs": [],
   "source": [
    "import numpy as np\n",
    "from sklearn.preprocessing import StandardScaler\n",
    "from sklearn.utils import shuffle\n",
    "from preprocessing_utils import *"
   ]
  },
  {
   "cell_type": "code",
   "execution_count": 2,
   "metadata": {
    "collapsed": true
   },
   "outputs": [],
   "source": [
    "def computeMSE(yScaled1, yScaled2, scaler=None):\n",
    "    if scaler:\n",
    "        yScaled1 = scaler.inverse_transform(yScaled1)\n",
    "        yScaled2 = scaler.inverse_transform(yScaled2)\n",
    "        return np.sum((yScaled1 - yScaled2)**2)/len(yScaled1)\n",
    "    else:\n",
    "        return np.sum((yScaled1 - yScaled2)**2)/len(yScaled1)"
   ]
  },
  {
   "cell_type": "code",
   "execution_count": 3,
   "metadata": {
    "collapsed": true
   },
   "outputs": [],
   "source": [
    "def computeAccuracy(Y,Yhat):\n",
    "    \"\"\" Test using specific model's eval function. \"\"\"\n",
    "    return sum(Y==Yhat)/len(Y)"
   ]
  },
  {
   "cell_type": "code",
   "execution_count": 4,
   "metadata": {
    "collapsed": true
   },
   "outputs": [],
   "source": [
    "# Assumes X, Y inputs are already scaled down.\n",
    "def computeTrainError(model, X, Y, YScaler):\n",
    "    model.train(X,Y)\n",
    "    YHat = model.predict(X)\n",
    "    YHat.shape = [YHat.shape[0], 1]\n",
    "    return computeMSE(Y, YHat, YScaler)"
   ]
  },
  {
   "cell_type": "code",
   "execution_count": 5,
   "metadata": {
    "collapsed": true
   },
   "outputs": [],
   "source": [
    "def computeTrainAccuracy(model, X, Y):\n",
    "    model.train(X,Y)\n",
    "    YHat = model.predict(X)\n",
    "    return computeAccuracy(Y, YHat)"
   ]
  },
  {
   "cell_type": "code",
   "execution_count": 6,
   "metadata": {
    "collapsed": true
   },
   "outputs": [],
   "source": [
    "# Assumes X, Y inputs are already scaled down.\n",
    "# k refers to the number of partitions for k-fold cross-validation.\n",
    "def computeTestError(model, X, Y, YScaler, k=10):\n",
    "    return computeTestErrorAndAccuracy(model, X, Y, k=k)[0]\n",
    "\n",
    "# Assumes X, Y inputs are already scaled down.\n",
    "# k refers to the number of partitions for k-fold cross-validation.\n",
    "def computeTestAccuracy(model, X, Y, k=10):\n",
    "    return computeTestErrorAndAccuracy(model, X, Y, k=k)[1]"
   ]
  },
  {
   "cell_type": "code",
   "execution_count": 7,
   "metadata": {
    "collapsed": true
   },
   "outputs": [],
   "source": [
    "def computeTestErrorAndAccuracy(model, X, Y, k=10):\n",
    "    np.random.seed(0)\n",
    "    test_errors = []\n",
    "    accuracies = []\n",
    "    X, Y = shuffle(X, Y)\n",
    "    N = len(Y)\n",
    "    # Performing k-fold cross-validation.\n",
    "    for k_i in range(k):\n",
    "        XTrain = np.vstack([X[0 : (int) (np.round(k_i / k * N)), :], X[(int) (np.round((k_i+1) / k * N)) : , :]])\n",
    "        YTrain = np.hstack([Y[0 : (int) (np.round(k_i / k * N))], Y[(int) (np.round((k_i+1) / k * N)) :]])\n",
    "        XTest = X[(int) (np.round(k_i / k * N)) : (int) (np.round((k_i+1) / k * N)), :]\n",
    "        YTest = Y[(int) (np.round(k_i / k * N)) : (int) (np.round((k_i+1) / k * N))]\n",
    "        model.train(XTrain,YTrain)\n",
    "        YHat = model.predict(XTest)\n",
    "        test_errors += [computeMSE(YTest, YHat, YScaler)]\n",
    "        accuracies += [computeAccuracy(YTest, YHat)]\n",
    "    return np.mean(test_errors), np.mean(accuracies)"
   ]
  },
  {
   "cell_type": "code",
   "execution_count": 12,
   "metadata": {
    "collapsed": true
   },
   "outputs": [],
   "source": [
    "def computeRecoloredTestErrorAndAccuracy(model, X, Y, k=10, color_options={'gamma' : False, \n",
    "                                                                           'rotate' : False}):\n",
    "    np.random.seed(0)\n",
    "    test_errors = []\n",
    "    accuracies = []\n",
    "    X, Y = shuffle(X, Y)\n",
    "    X_original = X\n",
    "    N = len(Y)\n",
    "    # Performing k-fold cross-validation.\n",
    "    for k_i in range(k):\n",
    "#         print(\"running fold {} of {}\".format(k_i, k))\n",
    "        \n",
    "        # Processing images for model\n",
    "        img_data = []\n",
    "        for img in X_original:\n",
    "            data = convert_image_to_data(img.astype('uint8'))\n",
    "            img_data.append(data)\n",
    "        img_data = np.array(img_data).reshape(X.shape[0], 1, 4, 3)\n",
    "        X = np.asarray(recolor_images(img_data, color_options=color_options))\n",
    "        X = X.reshape(X.shape[0], 12)\n",
    "        \n",
    "        XTrain = np.vstack([X[0 : (int) (np.round(k_i / k * N)), :], X[(int) (np.round((k_i+1) / k * N)) : , :]])\n",
    "        YTrain = np.vstack([Y[0 : (int) (np.round(k_i / k * N))], Y[(int) (np.round((k_i+1) / k * N)) :]])\n",
    "#         YTrain = np.hstack([Y[0 : (int) (np.round(k_i / k * N))], Y[(int) (np.round((k_i+1) / k * N)) :]])\n",
    "        XTest = X[(int) (np.round(k_i / k * N)) : (int) (np.round((k_i+1) / k * N)), :]\n",
    "        YTest = Y[(int) (np.round(k_i / k * N)) : (int) (np.round((k_i+1) / k * N))]\n",
    "        model.train(XTrain, YTrain)\n",
    "        YHat = model.predict(XTest)\n",
    "        test_errors += [computeMSE(YTest, YHat, YScaler)]\n",
    "#         test_errors += [computeMSE(YTest, YHat)]\n",
    "        accuracies += [computeAccuracy(YTest, YHat)]\n",
    "    return np.mean(test_errors), np.mean(accuracies)"
   ]
  },
  {
   "cell_type": "code",
   "execution_count": 9,
   "metadata": {
    "collapsed": true
   },
   "outputs": [],
   "source": [
    "def create_one_hot_label(Y,N_C):\n",
    "    ''''\n",
    "    Input\n",
    "    Y: list of class labels (int)\n",
    "    N_C: Number of Classes\n",
    "\n",
    "    Returns\n",
    "    List of one hot arrays with dimension N_C\n",
    "\n",
    "    '''\n",
    "    \n",
    "    y_one_hot = []\n",
    "    for y in Y:\n",
    "\n",
    "        one_hot_label = np.zeros(N_C)\n",
    "\n",
    "        one_hot_label[y] = 1.0\n",
    "        y_one_hot.append(one_hot_label)\n",
    "\n",
    "    return  y_one_hot"
   ]
  },
  {
   "cell_type": "code",
   "execution_count": 10,
   "metadata": {
    "collapsed": true
   },
   "outputs": [],
   "source": [
    "def compute_covariance_matrix(X,Y):\n",
    "    ''''\n",
    "    Input\n",
    "    X: List of data points\n",
    "    Y: list of one hot class labels\n",
    "\n",
    "    Returns\n",
    "    Covariance Matrix of X and Y\n",
    "    Note: Assumes Mean is subtracted\n",
    "    '''\n",
    "    dim_x = np.max(X[0].shape)\n",
    "    dim_y = np.max(Y[0].shape)\n",
    "\n",
    "    N = len(X)\n",
    "    C_XY = np.zeros([dim_x,dim_y])\n",
    "\n",
    "\n",
    "    for i in range(N):\n",
    "        x = np.array([X[i]])\n",
    "        y = np.array([Y[i]])\n",
    "        C_XY += np.dot(x.T,y)\n",
    "\n",
    "    return C_XY/float(N)"
   ]
  },
  {
   "cell_type": "code",
   "execution_count": 11,
   "metadata": {
    "collapsed": true
   },
   "outputs": [],
   "source": [
    "def subtract_mean_from_data(X,Y):\n",
    "    ''''\n",
    "    Input\n",
    "    X: List of data points\n",
    "    Y: list of one hot class labels\n",
    "\n",
    "    Returns\n",
    "    X and Y with mean subtracted\n",
    "    '''\n",
    "\n",
    "    ss_x = StandardScaler(with_std = False)\n",
    "    ss_y = StandardScaler(with_std = False)\n",
    "\n",
    "    ss_x.fit(X)\n",
    "    X = ss_x.transform(X)\n",
    "\n",
    "    ss_y.fit(Y)\n",
    "    Y = ss_y.transform(Y)\n",
    "\n",
    "    return X,Y"
   ]
  },
  {
   "cell_type": "code",
   "execution_count": null,
   "metadata": {
    "collapsed": true
   },
   "outputs": [],
   "source": []
  }
 ],
 "metadata": {
  "kernelspec": {
   "display_name": "Python 3",
   "language": "python",
   "name": "python3"
  },
  "language_info": {
   "codemirror_mode": {
    "name": "ipython",
    "version": 3
   },
   "file_extension": ".py",
   "mimetype": "text/x-python",
   "name": "python",
   "nbconvert_exporter": "python",
   "pygments_lexer": "ipython3",
   "version": "3.6.3"
  }
 },
 "nbformat": 4,
 "nbformat_minor": 2
}
